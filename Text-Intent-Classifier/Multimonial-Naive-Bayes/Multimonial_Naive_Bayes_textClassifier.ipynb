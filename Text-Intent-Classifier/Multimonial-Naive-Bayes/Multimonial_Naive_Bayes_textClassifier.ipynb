{
 "cells": [
  {
   "cell_type": "code",
   "execution_count": 173,
   "metadata": {},
   "outputs": [],
   "source": [
    "# using natural language toolkit\n",
    "import nltk\n",
    "import json\n",
    "from nltk.corpus import stopwords\n",
    "from nltk.stem.lancaster import LancasterStemmer\n",
    "#from nltk.stem.snowball import SnowballStemmer\n",
    "# word stemmer\n",
    "stemmer = LancasterStemmer()\n",
    "#stemmer1 = SnowballStemmer(\"english\")"
   ]
  },
  {
   "cell_type": "code",
   "execution_count": 174,
   "metadata": {},
   "outputs": [],
   "source": [
    "# import chat-bot intents training file\n",
    "with open('intents.json') as json_data:\n",
    "    training_data = json.load(json_data)"
   ]
  },
  {
   "cell_type": "code",
   "execution_count": 175,
   "metadata": {},
   "outputs": [
    {
     "name": "stdout",
     "output_type": "stream",
     "text": [
      "Corpus words and counts: {'hey': 2, 'hello': 2, ',': 1, 'how': 2, 'ar': 1, 'you': 1, 'is': 1, 'yo': 1, 'day': 2, 'good': 3, 'morn': 1, 'afternoon': 1, 'welcom': 1, 'howdy': 1, 'ther': 1, 'hi': 1, 'i': 3, 'am': 3, 'look': 3, 'for': 4, 'a': 4, 'plac': 3, 'to': 1, 'eat': 1, 'in': 4, 'the': 4, 'nor': 1, 'of': 1, 'town': 1, 'show': 2, 'me': 4, 'chines': 1, 'resta': 3, 'ye': 1, 'ok': 2, 'fin': 1, 'yep': 1, 'yeah': 1, 'okay': 1, 'mex': 1, 'cent': 2, 'bye': 2, 'goodby': 1, 'hav': 1, 'nic': 1, 'stop': 1, 'end': 1, 'an': 1, 'ind': 2, 'spot': 1, 'city': 1, 'search': 1, 'near': 2, 'anywh': 1, 'west': 1, 'indee': 1, 'that': 1, 'right': 1, 'gre': 1}\n",
      "Class words: {'greet': ['hey', 'hello', ',', 'how', 'ar', 'you', 'how', 'is', 'yo', 'day', 'good', 'morn', 'good', 'afternoon', 'welcom', 'howdy', 'hey', 'ther', 'hello', 'hi'], 'restaurant_search': ['i', 'am', 'look', 'for', 'a', 'plac', 'to', 'eat', 'i', 'am', 'look', 'for', 'a', 'plac', 'in', 'the', 'nor', 'of', 'town', 'show', 'me', 'chines', 'resta', 'show', 'me', 'a', 'mex', 'plac', 'in', 'the', 'cent', 'i', 'am', 'look', 'for', 'an', 'ind', 'spot', 'in', 'the', 'city', 'search', 'for', 'resta', 'near', 'me', 'anywh', 'in', 'the', 'west', 'cent', 'ind', 'resta', 'near', 'me'], 'affirm': ['ye', 'ok', 'fin', 'yep', 'yeah', 'okay', 'indee', 'that', 'right', 'ok', 'gre'], 'goodbye': ['bye', 'goodby', 'hav', 'a', 'nic', 'day', 'good', 'bye', 'stop', 'end']}\n"
     ]
    }
   ],
   "source": [
    "# capture unique stemmed words in the training corpus\n",
    "corpus_words = {}\n",
    "class_words = {}\n",
    "\n",
    "for c in training_data['intent_examples']:\n",
    "     class_words[c['intent']] = []\n",
    "    \n",
    "for intent_examples in training_data['intent_examples']:\n",
    "    for word in nltk.word_tokenize(intent_examples['text']):\n",
    "        # ignore a few things\n",
    "        if word not in [\"?\", \"'s\"]:\n",
    "            # stem and lowercase each word\n",
    "            if word == \"'m\":\n",
    "                word = \"am\"\n",
    "            stemmed_word = stemmer.stem(word.lower())\n",
    "            if stemmed_word not in corpus_words:\n",
    "                corpus_words[stemmed_word] = 1\n",
    "            else:\n",
    "                corpus_words[stemmed_word] += 1\n",
    "            class_words[intent_examples['intent']].extend([stemmed_word])\n",
    "            \n",
    "# the number of occurances of the word in training corpus (word frequency)\n",
    "print (\"Corpus words and counts: %s\" % corpus_words)\n",
    "# all words in each intent-class\n",
    "print (\"Class words: %s\" % class_words)"
   ]
  },
  {
   "cell_type": "code",
   "execution_count": 176,
   "metadata": {},
   "outputs": [],
   "source": [
    "# calculate a score for a given class taking into account word commonality\n",
    "def calculate_class_score_commonality(sentence, class_name, show_details=True):\n",
    "    score = 0\n",
    "    for word in nltk.word_tokenize(sentence):\n",
    "        word = stemmer.stem(word.lower())\n",
    "        if word in class_words[class_name]:\n",
    "            score += (1 / corpus_words[word])\n",
    "            if show_details:\n",
    "                print (\"   match: %s (%s)\" % (word, 1 / corpus_words[word]))\n",
    "    return score"
   ]
  },
  {
   "cell_type": "code",
   "execution_count": 177,
   "metadata": {},
   "outputs": [],
   "source": [
    "# return the class with highest score for sentence\n",
    "def find_intent(sentence):\n",
    "    high_class = None\n",
    "    high_score = 0\n",
    "    for c in class_words.keys():\n",
    "        #% (c, calculate_class_score_commonality(sentence, c)))\n",
    "        score = calculate_class_score_commonality(sentence, c)\n",
    "        print(\"Class: %s  Score: %s \\n\" % (c, score))\n",
    "        if score > high_score:\n",
    "            high_class = c\n",
    "            high_score = score\n",
    "    return high_class, high_score"
   ]
  },
  {
   "cell_type": "code",
   "execution_count": 178,
   "metadata": {},
   "outputs": [
    {
     "name": "stdout",
     "output_type": "stream",
     "text": [
      "   match: good (0.3333333333333333)\n",
      "Class: greet  Score: 0.3333333333333333 \n",
      "\n",
      "   match: look (0.3333333333333333)\n",
      "   match: for (0.25)\n",
      "   match: chines (1.0)\n",
      "   match: resta (0.3333333333333333)\n",
      "Class: restaurant_search  Score: 1.9166666666666665 \n",
      "\n",
      "Class: affirm  Score: 0 \n",
      "\n",
      "   match: good (0.3333333333333333)\n",
      "Class: goodbye  Score: 0.3333333333333333 \n",
      "\n"
     ]
    },
    {
     "data": {
      "text/plain": [
       "('restaurant_search', 1.9166666666666665)"
      ]
     },
     "execution_count": 178,
     "metadata": {},
     "output_type": "execute_result"
    }
   ],
   "source": [
    "find_intent(\"look for good chinese restaurant\")"
   ]
  },
  {
   "cell_type": "code",
   "execution_count": null,
   "metadata": {
    "collapsed": true
   },
   "outputs": [],
   "source": []
  }
 ],
 "metadata": {
  "kernelspec": {
   "display_name": "Python 3",
   "language": "python",
   "name": "python3"
  },
  "language_info": {
   "codemirror_mode": {
    "name": "ipython",
    "version": 3
   },
   "file_extension": ".py",
   "mimetype": "text/x-python",
   "name": "python",
   "nbconvert_exporter": "python",
   "pygments_lexer": "ipython3",
   "version": "3.6.1"
  }
 },
 "nbformat": 4,
 "nbformat_minor": 1
}
