{
 "cells": [
  {
   "cell_type": "code",
   "execution_count": 111,
   "metadata": {
    "collapsed": true
   },
   "outputs": [],
   "source": [
    "# using natural language toolkit\n",
    "import nltk\n",
    "import json\n",
    "import os\n",
    "from nltk.corpus import stopwords\n",
    "from nltk.stem.lancaster import LancasterStemmer\n",
    "#from nltk.stem.snowball import SnowballStemmer\n",
    "# word stemmer\n",
    "stemmer = LancasterStemmer()\n",
    "#stemmer1 = SnowballStemmer(\"english\")"
   ]
  },
  {
   "cell_type": "code",
   "execution_count": 112,
   "metadata": {
    "collapsed": true
   },
   "outputs": [],
   "source": [
    "# import chat-bot intents training file\n",
    "with open('intents.json') as json_data:\n",
    "    sample_dataset = json.load(json_data)"
   ]
  },
  {
   "cell_type": "code",
   "execution_count": 113,
   "metadata": {},
   "outputs": [
    {
     "name": "stdout",
     "output_type": "stream",
     "text": [
      "36 dataset records\n",
      "4 intents ['greet', 'restaurant_search', 'affirm', 'goodbye']\n",
      "61 unique stemmed words ['mex', 'goodby', 'anywh', 'ind', 'ok', 'cuisin', 'for', 'town', 'me', 'bye', 'som', 'pleas', 'yo', 'i', 'chines', 'how', 'okay', 'am', 'ye', 'right', 'an', 'look', 'hav', 'in', 'yep', 'west', 'cent', 'ar', 'yeah', 'near', 'food', 'indee', 'is', 'howdy', 'good', 'that', 'city', 'to', 'eat', 'of', 'search', 'the', 'plac', 'end', 'ther', 'gre', 'spot', 'hi', 'show', 'nor', 'hey', 'you', 'morn', 'welcom', 'afternoon', 'stop', 'resta', 'day', 'nic', 'a', 'hello']\n"
     ]
    }
   ],
   "source": [
    "# capture unique stemmed words in the training corpus\n",
    "corpus_words = []\n",
    "intents = []\n",
    "training_data = []\n",
    "record_list =[]\n",
    "#ignore = ['?']\n",
    "\n",
    "for record in sample_dataset['intent_examples']:\n",
    "    \n",
    "    if record['intent'] not in intents:\n",
    "        intents.append(record['intent'])\n",
    "    record_list.append(record)\n",
    "    \n",
    "    for word in nltk.word_tokenize(record['text']):\n",
    "        # ignore a few things\n",
    "        if word not in [\"?\", \"'s\", \",\"]:\n",
    "            # stem and lowercase each word\n",
    "            if word == \"'m\":\n",
    "                word = \"am\"\n",
    "            stemmed_word = stemmer.stem(word.lower())\n",
    "            corpus_words.append(stemmed_word)\n",
    "            #documents.append((stemmed_word,intent_examples['intent']))\n",
    "            #class_words[intent_examples['intent']].extend([stemmed_word])\n",
    "\n",
    "for record in record_list:\n",
    "    training_data.append((nltk.word_tokenize(record[\"text\"]), record[\"intent\"]))\n",
    "\n",
    "corpus_words = list(set(corpus_words))\n",
    "\n",
    "# # the number of occurances of the word in training corpus (word frequency)\n",
    "#print(\"Corpus words and counts: %s\" % corpus_words)\n",
    "# # all words in each intent-class\n",
    "#print (len(corpus_words), \"unique stemmed words\", corpus_words)\n",
    "#print(\"Intents : %s\" % intents)   \n",
    "#print(documents)\n",
    "print (len(training_data), \"dataset records\")\n",
    "print (len(intents), \"intents\", intents)\n",
    "print (len(corpus_words), \"unique stemmed words\", corpus_words)"
   ]
  },
  {
   "cell_type": "code",
   "execution_count": 114,
   "metadata": {},
   "outputs": [],
   "source": [
    "# create our training data\n",
    "training_input = []\n",
    "training_output = []\n",
    "# create an empty array for our output\n",
    "output_empty = [0] * len(intents)\n",
    "\n",
    "# training set, bag of words for each sentence\n",
    "for record in training_data:\n",
    "    # initialize our bag of words\n",
    "    bag = []\n",
    "    # list of tokenized words for the pattern\n",
    "    pattern_words = record[0]\n",
    "    #print(pattern_words)\n",
    "    # stem each word\n",
    "    pattern_words = [stemmer.stem(word.lower()) for word in pattern_words]\n",
    "    # create our bag of words array\n",
    "    for w in corpus_words:\n",
    "        bag.append(1) if w in pattern_words else bag.append(0)\n",
    "\n",
    "    training_input.append(bag)\n",
    "    # output is a '0' for each tag and '1' for current tag\n",
    "    output = list(output_empty)\n",
    "    output[intents.index(record[1])] = 1\n",
    "    training_output.append(output)\n",
    "\n",
    "#print (\"# words\", len(corpus_words))\n",
    "#print (\"# classes\", len(intents))\n",
    "#print(training)\n",
    "#print(output)\n"
   ]
  },
  {
   "cell_type": "code",
   "execution_count": 115,
   "metadata": {},
   "outputs": [
    {
     "name": "stdout",
     "output_type": "stream",
     "text": [
      "['i', 'am', 'look', 'for', 'a', 'plac', 'to', 'eat']\n",
      "[0, 0, 0, 0, 0, 0, 1, 0, 0, 0, 0, 0, 0, 1, 0, 0, 0, 1, 0, 0, 0, 1, 0, 0, 0, 0, 0, 0, 0, 0, 0, 0, 0, 0, 0, 0, 0, 1, 1, 0, 0, 0, 1, 0, 0, 0, 0, 0, 0, 0, 0, 0, 0, 0, 0, 0, 0, 0, 0, 1, 0]\n",
      "[0, 1, 0, 0]\n"
     ]
    }
   ],
   "source": [
    "# sample training/output\n",
    "i = 10\n",
    "w = training_data[i][0]\n",
    "print ([stemmer.stem(word.lower()) for word in w])\n",
    "print (training_input[i])\n",
    "print (training_output[i])"
   ]
  },
  {
   "cell_type": "code",
   "execution_count": 116,
   "metadata": {
    "collapsed": true
   },
   "outputs": [],
   "source": [
    "import numpy as np\n",
    "import time\n",
    "import datetime\n",
    "\n",
    "# sigmoid function\n",
    "def sigmoid(x):\n",
    "    output = 1/(1+np.exp(-x))\n",
    "    return output\n",
    "\n",
    "# convert output of sigmoid function to its derivative\n",
    "def sigmoidDerivative(output):\n",
    "    return output*(1-output)\n",
    " \n",
    "def wordsTokenizer(sentence):\n",
    "    # tokenize the pattern\n",
    "    sentence_words = nltk.word_tokenize(sentence)\n",
    "    # stem each word\n",
    "    sentence_words = [stemmer.stem(word) for word in sentence_words]\n",
    "    return sentence_words\n",
    "\n",
    "# return bag of words array: 0 or 1 for each word in the bag that exists in the sentence\n",
    "def bagOfWords(sentence, corpus_words, show_details=False):\n",
    "    # tokenize the pattern\n",
    "    sentence_words = wordsTokenizer(sentence)\n",
    "    # bag of words\n",
    "    bag = [0]*len(corpus_words)  \n",
    "    for s in sentence_words:\n",
    "        for i,w in enumerate(corpus_words):\n",
    "            if w == s: \n",
    "                bag[i] = 1\n",
    "                if show_details:\n",
    "                    print (\"found in bag: %s\" % w)\n",
    "\n",
    "    return(np.array(bag))\n",
    "\n",
    "def setSynapses(sentence, show_details=False):\n",
    "    x = bagOfWords(sentence.lower(), corpus_words, show_details)\n",
    "    if show_details:\n",
    "        print(\"sentence:\", sentence, \"\\n bag of words:\", x)\n",
    "    # input layer is our bag of words\n",
    "    l0 = x\n",
    "    # matrix multiplication of input and hidden layer\n",
    "    l1 = sigmoid(np.dot(l0, synapse_0))\n",
    "    # output layer\n",
    "    l2 = sigmoid(np.dot(l1, synapse_1))\n",
    "    return l2"
   ]
  },
  {
   "cell_type": "code",
   "execution_count": 117,
   "metadata": {
    "collapsed": true
   },
   "outputs": [],
   "source": [
    "def train(X, y, hidden_neurons=10, alpha=0.1, epochs=50000, dropout=False, dropout_percent=0.5):\n",
    "\n",
    "    print(\"Training with %s neurons, alpha:%s, dropout:%s %s\" % (hidden_neurons, str(alpha), dropout, dropout_percent if dropout else '') )\n",
    "    print(\"Input matrix: %sx%s    Output matrix: %sx%s\" % (len(X),len(X[0]),1, len(y[0])) )\n",
    "    np.random.seed(1)\n",
    "\n",
    "    last_mean_error = 1\n",
    "    # randomly initialize our weights with mean 0\n",
    "    synapse_0 = 2*np.random.random((len(X[0]), hidden_neurons)) - 1\n",
    "    synapse_1 = 2*np.random.random((hidden_neurons, len(y[0]))) - 1\n",
    "\n",
    "    prev_synapse_0_weight_update = np.zeros_like(synapse_0)\n",
    "    prev_synapse_1_weight_update = np.zeros_like(synapse_1)\n",
    "\n",
    "    synapse_0_direction_count = np.zeros_like(synapse_0)\n",
    "    synapse_1_direction_count = np.zeros_like(synapse_1)\n",
    "        \n",
    "    for j in iter(range(epochs+1)):\n",
    "\n",
    "        # Feed forward through layers 0, 1, and 2\n",
    "        layer_0 = X\n",
    "        layer_1 = sigmoid(np.dot(layer_0, synapse_0))\n",
    "                \n",
    "        if(dropout):\n",
    "            layer_1 *= np.random.binomial([np.ones((len(X),hidden_neurons))],1-dropout_percent)[0] * (1.0/(1-dropout_percent))\n",
    "\n",
    "        layer_2 = sigmoid(np.dot(layer_1, synapse_1))\n",
    "\n",
    "        # how much did we miss the target value?\n",
    "        layer_2_error = y - layer_2\n",
    "        \n",
    "\n",
    "        if (j% 10000) == 0 and j > 5000:\n",
    "            # if this 10k iteration's error is greater than the last iteration, break out\n",
    "            if np.mean(np.abs(layer_2_error)) < last_mean_error:\n",
    "                print (\"delta after \"+str(j)+\" iterations:\" + str(np.mean(np.abs(layer_2_error))) )\n",
    "                last_mean_error = np.mean(np.abs(layer_2_error))\n",
    "            else:\n",
    "                print (\"break:\", np.mean(np.abs(layer_2_error)), \">\", last_mean_error )\n",
    "                break\n",
    "                \n",
    "        # in what direction is the target value?\n",
    "        # were we really sure? if so, don't change too much.\n",
    "        layer_2_delta = layer_2_error * sigmoidDerivative(layer_2)\n",
    "\n",
    "        # how much did each l1 value contribute to the l2 error (according to the weights)?\n",
    "        layer_1_error = layer_2_delta.dot(synapse_1.T)\n",
    "\n",
    "        # in what direction is the target l1?\n",
    "        # were we really sure? if so, don't change too much.\n",
    "        layer_1_delta = layer_1_error * sigmoidDerivative(layer_1)\n",
    "        \n",
    "        synapse_1_weight_update = (layer_1.T.dot(layer_2_delta))\n",
    "        synapse_0_weight_update = (layer_0.T.dot(layer_1_delta))\n",
    "        \n",
    "        if(j > 0):\n",
    "            synapse_0_direction_count += np.abs(((synapse_0_weight_update > 0)+0) - ((prev_synapse_0_weight_update > 0) + 0))\n",
    "            synapse_1_direction_count += np.abs(((synapse_1_weight_update > 0)+0) - ((prev_synapse_1_weight_update > 0) + 0))        \n",
    "        \n",
    "        synapse_1 += alpha * synapse_1_weight_update\n",
    "        synapse_0 += alpha * synapse_0_weight_update\n",
    "        \n",
    "        prev_synapse_0_weight_update = synapse_0_weight_update\n",
    "        prev_synapse_1_weight_update = synapse_1_weight_update\n",
    "\n",
    "    now = datetime.datetime.now()\n",
    "\n",
    "    # persist synapses\n",
    "    synapse = {'synapse0': synapse_0.tolist(), 'synapse1': synapse_1.tolist(),\n",
    "               'datetime': now.strftime(\"%Y-%m-%d %H:%M\"),\n",
    "               'words': corpus_words,\n",
    "               'intents': intents\n",
    "              }\n",
    "    synapse_file = \"synapses.json\"\n",
    "\n",
    "    with open(synapse_file, 'w') as outfile:\n",
    "        json.dump(synapse, outfile, indent=4, sort_keys=True)\n",
    "    print (\"saved synapses to:\", synapse_file)"
   ]
  },
  {
   "cell_type": "code",
   "execution_count": 118,
   "metadata": {},
   "outputs": [
    {
     "name": "stdout",
     "output_type": "stream",
     "text": [
      "Training with 20 neurons, alpha:0.1, dropout:False \n",
      "Input matrix: 36x61    Output matrix: 1x4\n",
      "delta after 10000 iterations:0.00445092739035\n",
      "delta after 20000 iterations:0.00304771516708\n",
      "delta after 30000 iterations:0.00244877799078\n",
      "delta after 40000 iterations:0.00209866734213\n",
      "delta after 50000 iterations:0.00186283533551\n",
      "delta after 60000 iterations:0.00169042242308\n",
      "delta after 70000 iterations:0.00155743602285\n",
      "delta after 80000 iterations:0.00145090290813\n",
      "delta after 90000 iterations:0.00136312106247\n",
      "delta after 100000 iterations:0.00128919457373\n",
      "saved synapses to: synapses.json\n",
      "processing time: 10.65522837638855 seconds\n"
     ]
    }
   ],
   "source": [
    "X = np.array(training_input)\n",
    "y = np.array(training_output)\n",
    "#print(training)\n",
    "#print(output)\n",
    "\n",
    "start_time = time.time()\n",
    "\n",
    "train(X, y, hidden_neurons=20, alpha=0.1, epochs=100000, dropout=False, dropout_percent=0.2)\n",
    "\n",
    "elapsed_time = time.time() - start_time\n",
    "print (\"processing time:\", elapsed_time, \"seconds\")"
   ]
  },
  {
   "cell_type": "code",
   "execution_count": 119,
   "metadata": {},
   "outputs": [
    {
     "name": "stdout",
     "output_type": "stream",
     "text": [
      "found in bag: look\n",
      "found in bag: for\n",
      "found in bag: a\n",
      "found in bag: plac\n",
      "found in bag: near\n",
      "found in bag: city\n",
      "found in bag: cent\n",
      "sentence: looking for a dinner place near city center? \n",
      " bag of words: [0 0 0 0 0 0 1 0 0 0 0 0 0 0 0 0 0 0 0 0 0 1 0 0 0 0 1 0 0 1 0 0 0 0 0 0 1\n",
      " 0 0 0 0 0 1 0 0 0 0 0 0 0 0 0 0 0 0 0 0 0 0 1 0]\n",
      "[['restaurant_search', 0.96959436876859351]]\n"
     ]
    }
   ],
   "source": [
    "# probability threshold\n",
    "ERROR_THRESHOLD = 0.2\n",
    "# load our calculated synapse values\n",
    "synapse_file = 'synapses.json' \n",
    "with open(synapse_file) as data_file: \n",
    "    synapse = json.load(data_file) \n",
    "    synapse_0 = np.asarray(synapse['synapse0']) \n",
    "    synapse_1 = np.asarray(synapse['synapse1'])\n",
    "\n",
    "def intentClassifier(sentence, show_details=False):\n",
    "    results = setSynapses(sentence, show_details)\n",
    "    #print(results)\n",
    "    results = [[i,r] for i,r in enumerate(results) if r>ERROR_THRESHOLD ] \n",
    "    results.sort(key=lambda x: x[1], reverse=True) \n",
    "    return_results =[[intents[r[0]],r[1]] for r in results]\n",
    "    #print (\"%s \\n classification: %s\" % (sentence, return_results))\n",
    "    return return_results\n",
    "\n",
    "# classify(\"show me a mexicon place in the center\")\n",
    "# classify(\"how are you today?\")\n",
    "# classify(\"talk to you tomorrow, bye\")\n",
    "# classify(\"search thai cuisine in city\")\n",
    "# classify(\"get me some lunch\")\n",
    "# print ()\n",
    "print(intentClassifier(\"looking for a dinner place near city center?\", show_details=True))\n"
   ]
  },
  {
   "cell_type": "code",
   "execution_count": null,
   "metadata": {
    "collapsed": true
   },
   "outputs": [],
   "source": []
  }
 ],
 "metadata": {
  "kernelspec": {
   "display_name": "Python 3",
   "language": "python",
   "name": "python3"
  },
  "language_info": {
   "codemirror_mode": {
    "name": "ipython",
    "version": 3
   },
   "file_extension": ".py",
   "mimetype": "text/x-python",
   "name": "python",
   "nbconvert_exporter": "python",
   "pygments_lexer": "ipython3",
   "version": "3.6.1"
  }
 },
 "nbformat": 4,
 "nbformat_minor": 2
}
